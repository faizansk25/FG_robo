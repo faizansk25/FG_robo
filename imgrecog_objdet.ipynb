{
  "cells": [
    {
      "cell_type": "code",
      "execution_count": null,
      "metadata": {
        "id": "LKAZz81L2dLR"
      },
      "outputs": [],
      "source": [
        "!pip install ultralytics pytesseract opencv-python scikit-image\n",
        "!pip install torch torchvision torchaudio --index-url https://download.pytorch.org/whl/cu118"
      ]
    },
    {
      "cell_type": "code",
      "source": [
        "!pip install ultralytics pytesseract opencv-python scikit-image\n",
        "\n",
        "import torch\n",
        "from ultralytics import YOLO\n",
        "import pytesseract\n",
        "import cv2\n",
        "import os\n",
        "from skimage import color, io\n",
        "import numpy as np\n",
        "\n",
        "model = YOLO(\"yolo11s.pt\")\n",
        "\n",
        "save_dir = \"detection_results\"\n",
        "if not os.path.exists(save_dir):\n",
        "    os.makedirs(save_dir)\n",
        "\n",
        "\n",
        "def process_video(video_path):\n",
        "    results = model(video_path, save=True, project=save_dir)\n",
        "\n",
        "\n",
        "    for result in results:\n",
        "        if result.boxes is not None:\n",
        "            boxes = result.boxes\n",
        "            detected_objects = []\n",
        "\n",
        "            for box in boxes:\n",
        "                try:\n",
        "\n",
        "                    cls_id = int(box.cls)\n",
        "                    class_name = result.names[cls_id]\n",
        "\n",
        "                    detected_objects.append(class_name)\n",
        "\n",
        "                    if class_name in ['apple', 'banana', 'tomato']:\n",
        "                        x1, y1, x2, y2 = map(int, box.xyxy[0])\n",
        "                        cropped_img = result.orig_img[y1:y2, x1:x2]\n",
        "\n",
        "                        if cropped_img.size > 0:\n",
        "                            freshness_status = assess_real_freshness(cropped_img)\n",
        "                            print(f\"Detected {class_name} with real-life freshness: {freshness_status}\")\n",
        "                        else:\n",
        "                            print(\"Empty cropped image for freshness detection.\")\n",
        "\n",
        "        print(f\"Results saved in: {result.save_dir}\")\n",
        "\n",
        "video_path = \"/content/1.mp4\"\n",
        "if os.path.exists(video_path):\n",
        "    process_video(video_path)\n",
        "else:\n",
        "    print(f\"Video file not found: {video_path}\")\n"
      ],
      "metadata": {
        "id": "4TfmcUmGFMWU"
      },
      "execution_count": null,
      "outputs": []
    }
  ],
  "metadata": {
    "colab": {
      "provenance": [],
      "gpuType": "T4"
    },
    "kernelspec": {
      "display_name": "Python 3",
      "name": "python3"
    },
    "language_info": {
      "name": "python"
    },
    "accelerator": "GPU"
  },
  "nbformat": 4,
  "nbformat_minor": 0
}